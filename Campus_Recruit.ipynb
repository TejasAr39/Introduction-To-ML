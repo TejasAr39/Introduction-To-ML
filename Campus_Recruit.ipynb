{
  "nbformat": 4,
  "nbformat_minor": 0,
  "metadata": {
    "colab": {
      "name": "Campus_Recruit.ipynb",
      "provenance": [],
      "collapsed_sections": [],
      "toc_visible": true
    },
    "kernelspec": {
      "name": "python3",
      "display_name": "Python 3"
    }
  },
  "cells": [
    {
      "cell_type": "code",
      "metadata": {
        "id": "nrfl5DVDjPIO",
        "colab_type": "code",
        "colab": {}
      },
      "source": [
        "import pandas as pd\n",
        "import numpy as np"
      ],
      "execution_count": 1,
      "outputs": []
    },
    {
      "cell_type": "code",
      "metadata": {
        "id": "LGh9lfOgjjfW",
        "colab_type": "code",
        "colab": {}
      },
      "source": [
        "data = pd.read_csv('/content/datasets_596958_1073629_Placement_Data_Full_Class.csv')"
      ],
      "execution_count": 2,
      "outputs": []
    },
    {
      "cell_type": "code",
      "metadata": {
        "id": "jQ53xSULjnlE",
        "colab_type": "code",
        "colab": {
          "base_uri": "https://localhost:8080/",
          "height": 473
        },
        "outputId": "61ae561c-b0a1-4030-b69b-e0bcc8956f20"
      },
      "source": [
        "data"
      ],
      "execution_count": 3,
      "outputs": [
        {
          "output_type": "execute_result",
          "data": {
            "text/html": [
              "<div>\n",
              "<style scoped>\n",
              "    .dataframe tbody tr th:only-of-type {\n",
              "        vertical-align: middle;\n",
              "    }\n",
              "\n",
              "    .dataframe tbody tr th {\n",
              "        vertical-align: top;\n",
              "    }\n",
              "\n",
              "    .dataframe thead th {\n",
              "        text-align: right;\n",
              "    }\n",
              "</style>\n",
              "<table border=\"1\" class=\"dataframe\">\n",
              "  <thead>\n",
              "    <tr style=\"text-align: right;\">\n",
              "      <th></th>\n",
              "      <th>sl_no</th>\n",
              "      <th>gender</th>\n",
              "      <th>ssc_p</th>\n",
              "      <th>ssc_b</th>\n",
              "      <th>hsc_p</th>\n",
              "      <th>hsc_b</th>\n",
              "      <th>hsc_s</th>\n",
              "      <th>degree_p</th>\n",
              "      <th>degree_t</th>\n",
              "      <th>workex</th>\n",
              "      <th>etest_p</th>\n",
              "      <th>specialisation</th>\n",
              "      <th>mba_p</th>\n",
              "      <th>status</th>\n",
              "      <th>salary</th>\n",
              "    </tr>\n",
              "  </thead>\n",
              "  <tbody>\n",
              "    <tr>\n",
              "      <th>0</th>\n",
              "      <td>1</td>\n",
              "      <td>M</td>\n",
              "      <td>67.00</td>\n",
              "      <td>Others</td>\n",
              "      <td>91.00</td>\n",
              "      <td>Others</td>\n",
              "      <td>Commerce</td>\n",
              "      <td>58.00</td>\n",
              "      <td>Sci&amp;Tech</td>\n",
              "      <td>No</td>\n",
              "      <td>55.0</td>\n",
              "      <td>Mkt&amp;HR</td>\n",
              "      <td>58.80</td>\n",
              "      <td>Placed</td>\n",
              "      <td>270000.0</td>\n",
              "    </tr>\n",
              "    <tr>\n",
              "      <th>1</th>\n",
              "      <td>2</td>\n",
              "      <td>M</td>\n",
              "      <td>79.33</td>\n",
              "      <td>Central</td>\n",
              "      <td>78.33</td>\n",
              "      <td>Others</td>\n",
              "      <td>Science</td>\n",
              "      <td>77.48</td>\n",
              "      <td>Sci&amp;Tech</td>\n",
              "      <td>Yes</td>\n",
              "      <td>86.5</td>\n",
              "      <td>Mkt&amp;Fin</td>\n",
              "      <td>66.28</td>\n",
              "      <td>Placed</td>\n",
              "      <td>200000.0</td>\n",
              "    </tr>\n",
              "    <tr>\n",
              "      <th>2</th>\n",
              "      <td>3</td>\n",
              "      <td>M</td>\n",
              "      <td>65.00</td>\n",
              "      <td>Central</td>\n",
              "      <td>68.00</td>\n",
              "      <td>Central</td>\n",
              "      <td>Arts</td>\n",
              "      <td>64.00</td>\n",
              "      <td>Comm&amp;Mgmt</td>\n",
              "      <td>No</td>\n",
              "      <td>75.0</td>\n",
              "      <td>Mkt&amp;Fin</td>\n",
              "      <td>57.80</td>\n",
              "      <td>Placed</td>\n",
              "      <td>250000.0</td>\n",
              "    </tr>\n",
              "    <tr>\n",
              "      <th>3</th>\n",
              "      <td>4</td>\n",
              "      <td>M</td>\n",
              "      <td>56.00</td>\n",
              "      <td>Central</td>\n",
              "      <td>52.00</td>\n",
              "      <td>Central</td>\n",
              "      <td>Science</td>\n",
              "      <td>52.00</td>\n",
              "      <td>Sci&amp;Tech</td>\n",
              "      <td>No</td>\n",
              "      <td>66.0</td>\n",
              "      <td>Mkt&amp;HR</td>\n",
              "      <td>59.43</td>\n",
              "      <td>Not Placed</td>\n",
              "      <td>NaN</td>\n",
              "    </tr>\n",
              "    <tr>\n",
              "      <th>4</th>\n",
              "      <td>5</td>\n",
              "      <td>M</td>\n",
              "      <td>85.80</td>\n",
              "      <td>Central</td>\n",
              "      <td>73.60</td>\n",
              "      <td>Central</td>\n",
              "      <td>Commerce</td>\n",
              "      <td>73.30</td>\n",
              "      <td>Comm&amp;Mgmt</td>\n",
              "      <td>No</td>\n",
              "      <td>96.8</td>\n",
              "      <td>Mkt&amp;Fin</td>\n",
              "      <td>55.50</td>\n",
              "      <td>Placed</td>\n",
              "      <td>425000.0</td>\n",
              "    </tr>\n",
              "    <tr>\n",
              "      <th>...</th>\n",
              "      <td>...</td>\n",
              "      <td>...</td>\n",
              "      <td>...</td>\n",
              "      <td>...</td>\n",
              "      <td>...</td>\n",
              "      <td>...</td>\n",
              "      <td>...</td>\n",
              "      <td>...</td>\n",
              "      <td>...</td>\n",
              "      <td>...</td>\n",
              "      <td>...</td>\n",
              "      <td>...</td>\n",
              "      <td>...</td>\n",
              "      <td>...</td>\n",
              "      <td>...</td>\n",
              "    </tr>\n",
              "    <tr>\n",
              "      <th>210</th>\n",
              "      <td>211</td>\n",
              "      <td>M</td>\n",
              "      <td>80.60</td>\n",
              "      <td>Others</td>\n",
              "      <td>82.00</td>\n",
              "      <td>Others</td>\n",
              "      <td>Commerce</td>\n",
              "      <td>77.60</td>\n",
              "      <td>Comm&amp;Mgmt</td>\n",
              "      <td>No</td>\n",
              "      <td>91.0</td>\n",
              "      <td>Mkt&amp;Fin</td>\n",
              "      <td>74.49</td>\n",
              "      <td>Placed</td>\n",
              "      <td>400000.0</td>\n",
              "    </tr>\n",
              "    <tr>\n",
              "      <th>211</th>\n",
              "      <td>212</td>\n",
              "      <td>M</td>\n",
              "      <td>58.00</td>\n",
              "      <td>Others</td>\n",
              "      <td>60.00</td>\n",
              "      <td>Others</td>\n",
              "      <td>Science</td>\n",
              "      <td>72.00</td>\n",
              "      <td>Sci&amp;Tech</td>\n",
              "      <td>No</td>\n",
              "      <td>74.0</td>\n",
              "      <td>Mkt&amp;Fin</td>\n",
              "      <td>53.62</td>\n",
              "      <td>Placed</td>\n",
              "      <td>275000.0</td>\n",
              "    </tr>\n",
              "    <tr>\n",
              "      <th>212</th>\n",
              "      <td>213</td>\n",
              "      <td>M</td>\n",
              "      <td>67.00</td>\n",
              "      <td>Others</td>\n",
              "      <td>67.00</td>\n",
              "      <td>Others</td>\n",
              "      <td>Commerce</td>\n",
              "      <td>73.00</td>\n",
              "      <td>Comm&amp;Mgmt</td>\n",
              "      <td>Yes</td>\n",
              "      <td>59.0</td>\n",
              "      <td>Mkt&amp;Fin</td>\n",
              "      <td>69.72</td>\n",
              "      <td>Placed</td>\n",
              "      <td>295000.0</td>\n",
              "    </tr>\n",
              "    <tr>\n",
              "      <th>213</th>\n",
              "      <td>214</td>\n",
              "      <td>F</td>\n",
              "      <td>74.00</td>\n",
              "      <td>Others</td>\n",
              "      <td>66.00</td>\n",
              "      <td>Others</td>\n",
              "      <td>Commerce</td>\n",
              "      <td>58.00</td>\n",
              "      <td>Comm&amp;Mgmt</td>\n",
              "      <td>No</td>\n",
              "      <td>70.0</td>\n",
              "      <td>Mkt&amp;HR</td>\n",
              "      <td>60.23</td>\n",
              "      <td>Placed</td>\n",
              "      <td>204000.0</td>\n",
              "    </tr>\n",
              "    <tr>\n",
              "      <th>214</th>\n",
              "      <td>215</td>\n",
              "      <td>M</td>\n",
              "      <td>62.00</td>\n",
              "      <td>Central</td>\n",
              "      <td>58.00</td>\n",
              "      <td>Others</td>\n",
              "      <td>Science</td>\n",
              "      <td>53.00</td>\n",
              "      <td>Comm&amp;Mgmt</td>\n",
              "      <td>No</td>\n",
              "      <td>89.0</td>\n",
              "      <td>Mkt&amp;HR</td>\n",
              "      <td>60.22</td>\n",
              "      <td>Not Placed</td>\n",
              "      <td>NaN</td>\n",
              "    </tr>\n",
              "  </tbody>\n",
              "</table>\n",
              "<p>215 rows × 15 columns</p>\n",
              "</div>"
            ],
            "text/plain": [
              "     sl_no gender  ssc_p    ssc_b  ...  specialisation  mba_p      status    salary\n",
              "0        1      M  67.00   Others  ...          Mkt&HR  58.80      Placed  270000.0\n",
              "1        2      M  79.33  Central  ...         Mkt&Fin  66.28      Placed  200000.0\n",
              "2        3      M  65.00  Central  ...         Mkt&Fin  57.80      Placed  250000.0\n",
              "3        4      M  56.00  Central  ...          Mkt&HR  59.43  Not Placed       NaN\n",
              "4        5      M  85.80  Central  ...         Mkt&Fin  55.50      Placed  425000.0\n",
              "..     ...    ...    ...      ...  ...             ...    ...         ...       ...\n",
              "210    211      M  80.60   Others  ...         Mkt&Fin  74.49      Placed  400000.0\n",
              "211    212      M  58.00   Others  ...         Mkt&Fin  53.62      Placed  275000.0\n",
              "212    213      M  67.00   Others  ...         Mkt&Fin  69.72      Placed  295000.0\n",
              "213    214      F  74.00   Others  ...          Mkt&HR  60.23      Placed  204000.0\n",
              "214    215      M  62.00  Central  ...          Mkt&HR  60.22  Not Placed       NaN\n",
              "\n",
              "[215 rows x 15 columns]"
            ]
          },
          "metadata": {
            "tags": []
          },
          "execution_count": 3
        }
      ]
    },
    {
      "cell_type": "markdown",
      "metadata": {
        "id": "D-VIdR4PSRJJ",
        "colab_type": "text"
      },
      "source": [
        "##Separate Features and Target"
      ]
    },
    {
      "cell_type": "code",
      "metadata": {
        "id": "ZmsHbbiMmMxW",
        "colab_type": "code",
        "colab": {}
      },
      "source": [
        "x = data.drop(['status','salary'], axis=1)\n",
        "y = data.iloc[:, -2]"
      ],
      "execution_count": 4,
      "outputs": []
    },
    {
      "cell_type": "code",
      "metadata": {
        "id": "z17pmxz-rmUs",
        "colab_type": "code",
        "colab": {
          "base_uri": "https://localhost:8080/",
          "height": 419
        },
        "outputId": "0fafa85e-0be5-4085-9190-e1e7013ce82a"
      },
      "source": [
        "x"
      ],
      "execution_count": 5,
      "outputs": [
        {
          "output_type": "execute_result",
          "data": {
            "text/html": [
              "<div>\n",
              "<style scoped>\n",
              "    .dataframe tbody tr th:only-of-type {\n",
              "        vertical-align: middle;\n",
              "    }\n",
              "\n",
              "    .dataframe tbody tr th {\n",
              "        vertical-align: top;\n",
              "    }\n",
              "\n",
              "    .dataframe thead th {\n",
              "        text-align: right;\n",
              "    }\n",
              "</style>\n",
              "<table border=\"1\" class=\"dataframe\">\n",
              "  <thead>\n",
              "    <tr style=\"text-align: right;\">\n",
              "      <th></th>\n",
              "      <th>sl_no</th>\n",
              "      <th>gender</th>\n",
              "      <th>ssc_p</th>\n",
              "      <th>ssc_b</th>\n",
              "      <th>hsc_p</th>\n",
              "      <th>hsc_b</th>\n",
              "      <th>hsc_s</th>\n",
              "      <th>degree_p</th>\n",
              "      <th>degree_t</th>\n",
              "      <th>workex</th>\n",
              "      <th>etest_p</th>\n",
              "      <th>specialisation</th>\n",
              "      <th>mba_p</th>\n",
              "    </tr>\n",
              "  </thead>\n",
              "  <tbody>\n",
              "    <tr>\n",
              "      <th>0</th>\n",
              "      <td>1</td>\n",
              "      <td>M</td>\n",
              "      <td>67.00</td>\n",
              "      <td>Others</td>\n",
              "      <td>91.00</td>\n",
              "      <td>Others</td>\n",
              "      <td>Commerce</td>\n",
              "      <td>58.00</td>\n",
              "      <td>Sci&amp;Tech</td>\n",
              "      <td>No</td>\n",
              "      <td>55.0</td>\n",
              "      <td>Mkt&amp;HR</td>\n",
              "      <td>58.80</td>\n",
              "    </tr>\n",
              "    <tr>\n",
              "      <th>1</th>\n",
              "      <td>2</td>\n",
              "      <td>M</td>\n",
              "      <td>79.33</td>\n",
              "      <td>Central</td>\n",
              "      <td>78.33</td>\n",
              "      <td>Others</td>\n",
              "      <td>Science</td>\n",
              "      <td>77.48</td>\n",
              "      <td>Sci&amp;Tech</td>\n",
              "      <td>Yes</td>\n",
              "      <td>86.5</td>\n",
              "      <td>Mkt&amp;Fin</td>\n",
              "      <td>66.28</td>\n",
              "    </tr>\n",
              "    <tr>\n",
              "      <th>2</th>\n",
              "      <td>3</td>\n",
              "      <td>M</td>\n",
              "      <td>65.00</td>\n",
              "      <td>Central</td>\n",
              "      <td>68.00</td>\n",
              "      <td>Central</td>\n",
              "      <td>Arts</td>\n",
              "      <td>64.00</td>\n",
              "      <td>Comm&amp;Mgmt</td>\n",
              "      <td>No</td>\n",
              "      <td>75.0</td>\n",
              "      <td>Mkt&amp;Fin</td>\n",
              "      <td>57.80</td>\n",
              "    </tr>\n",
              "    <tr>\n",
              "      <th>3</th>\n",
              "      <td>4</td>\n",
              "      <td>M</td>\n",
              "      <td>56.00</td>\n",
              "      <td>Central</td>\n",
              "      <td>52.00</td>\n",
              "      <td>Central</td>\n",
              "      <td>Science</td>\n",
              "      <td>52.00</td>\n",
              "      <td>Sci&amp;Tech</td>\n",
              "      <td>No</td>\n",
              "      <td>66.0</td>\n",
              "      <td>Mkt&amp;HR</td>\n",
              "      <td>59.43</td>\n",
              "    </tr>\n",
              "    <tr>\n",
              "      <th>4</th>\n",
              "      <td>5</td>\n",
              "      <td>M</td>\n",
              "      <td>85.80</td>\n",
              "      <td>Central</td>\n",
              "      <td>73.60</td>\n",
              "      <td>Central</td>\n",
              "      <td>Commerce</td>\n",
              "      <td>73.30</td>\n",
              "      <td>Comm&amp;Mgmt</td>\n",
              "      <td>No</td>\n",
              "      <td>96.8</td>\n",
              "      <td>Mkt&amp;Fin</td>\n",
              "      <td>55.50</td>\n",
              "    </tr>\n",
              "    <tr>\n",
              "      <th>...</th>\n",
              "      <td>...</td>\n",
              "      <td>...</td>\n",
              "      <td>...</td>\n",
              "      <td>...</td>\n",
              "      <td>...</td>\n",
              "      <td>...</td>\n",
              "      <td>...</td>\n",
              "      <td>...</td>\n",
              "      <td>...</td>\n",
              "      <td>...</td>\n",
              "      <td>...</td>\n",
              "      <td>...</td>\n",
              "      <td>...</td>\n",
              "    </tr>\n",
              "    <tr>\n",
              "      <th>210</th>\n",
              "      <td>211</td>\n",
              "      <td>M</td>\n",
              "      <td>80.60</td>\n",
              "      <td>Others</td>\n",
              "      <td>82.00</td>\n",
              "      <td>Others</td>\n",
              "      <td>Commerce</td>\n",
              "      <td>77.60</td>\n",
              "      <td>Comm&amp;Mgmt</td>\n",
              "      <td>No</td>\n",
              "      <td>91.0</td>\n",
              "      <td>Mkt&amp;Fin</td>\n",
              "      <td>74.49</td>\n",
              "    </tr>\n",
              "    <tr>\n",
              "      <th>211</th>\n",
              "      <td>212</td>\n",
              "      <td>M</td>\n",
              "      <td>58.00</td>\n",
              "      <td>Others</td>\n",
              "      <td>60.00</td>\n",
              "      <td>Others</td>\n",
              "      <td>Science</td>\n",
              "      <td>72.00</td>\n",
              "      <td>Sci&amp;Tech</td>\n",
              "      <td>No</td>\n",
              "      <td>74.0</td>\n",
              "      <td>Mkt&amp;Fin</td>\n",
              "      <td>53.62</td>\n",
              "    </tr>\n",
              "    <tr>\n",
              "      <th>212</th>\n",
              "      <td>213</td>\n",
              "      <td>M</td>\n",
              "      <td>67.00</td>\n",
              "      <td>Others</td>\n",
              "      <td>67.00</td>\n",
              "      <td>Others</td>\n",
              "      <td>Commerce</td>\n",
              "      <td>73.00</td>\n",
              "      <td>Comm&amp;Mgmt</td>\n",
              "      <td>Yes</td>\n",
              "      <td>59.0</td>\n",
              "      <td>Mkt&amp;Fin</td>\n",
              "      <td>69.72</td>\n",
              "    </tr>\n",
              "    <tr>\n",
              "      <th>213</th>\n",
              "      <td>214</td>\n",
              "      <td>F</td>\n",
              "      <td>74.00</td>\n",
              "      <td>Others</td>\n",
              "      <td>66.00</td>\n",
              "      <td>Others</td>\n",
              "      <td>Commerce</td>\n",
              "      <td>58.00</td>\n",
              "      <td>Comm&amp;Mgmt</td>\n",
              "      <td>No</td>\n",
              "      <td>70.0</td>\n",
              "      <td>Mkt&amp;HR</td>\n",
              "      <td>60.23</td>\n",
              "    </tr>\n",
              "    <tr>\n",
              "      <th>214</th>\n",
              "      <td>215</td>\n",
              "      <td>M</td>\n",
              "      <td>62.00</td>\n",
              "      <td>Central</td>\n",
              "      <td>58.00</td>\n",
              "      <td>Others</td>\n",
              "      <td>Science</td>\n",
              "      <td>53.00</td>\n",
              "      <td>Comm&amp;Mgmt</td>\n",
              "      <td>No</td>\n",
              "      <td>89.0</td>\n",
              "      <td>Mkt&amp;HR</td>\n",
              "      <td>60.22</td>\n",
              "    </tr>\n",
              "  </tbody>\n",
              "</table>\n",
              "<p>215 rows × 13 columns</p>\n",
              "</div>"
            ],
            "text/plain": [
              "     sl_no gender  ssc_p    ssc_b  ...  workex etest_p specialisation  mba_p\n",
              "0        1      M  67.00   Others  ...      No    55.0         Mkt&HR  58.80\n",
              "1        2      M  79.33  Central  ...     Yes    86.5        Mkt&Fin  66.28\n",
              "2        3      M  65.00  Central  ...      No    75.0        Mkt&Fin  57.80\n",
              "3        4      M  56.00  Central  ...      No    66.0         Mkt&HR  59.43\n",
              "4        5      M  85.80  Central  ...      No    96.8        Mkt&Fin  55.50\n",
              "..     ...    ...    ...      ...  ...     ...     ...            ...    ...\n",
              "210    211      M  80.60   Others  ...      No    91.0        Mkt&Fin  74.49\n",
              "211    212      M  58.00   Others  ...      No    74.0        Mkt&Fin  53.62\n",
              "212    213      M  67.00   Others  ...     Yes    59.0        Mkt&Fin  69.72\n",
              "213    214      F  74.00   Others  ...      No    70.0         Mkt&HR  60.23\n",
              "214    215      M  62.00  Central  ...      No    89.0         Mkt&HR  60.22\n",
              "\n",
              "[215 rows x 13 columns]"
            ]
          },
          "metadata": {
            "tags": []
          },
          "execution_count": 5
        }
      ]
    },
    {
      "cell_type": "code",
      "metadata": {
        "id": "pZBThkScsNmC",
        "colab_type": "code",
        "colab": {
          "base_uri": "https://localhost:8080/",
          "height": 221
        },
        "outputId": "b4d76e68-cc1a-4221-f7e4-45c0db88f0ad"
      },
      "source": [
        "y"
      ],
      "execution_count": 6,
      "outputs": [
        {
          "output_type": "execute_result",
          "data": {
            "text/plain": [
              "0          Placed\n",
              "1          Placed\n",
              "2          Placed\n",
              "3      Not Placed\n",
              "4          Placed\n",
              "          ...    \n",
              "210        Placed\n",
              "211        Placed\n",
              "212        Placed\n",
              "213        Placed\n",
              "214    Not Placed\n",
              "Name: status, Length: 215, dtype: object"
            ]
          },
          "metadata": {
            "tags": []
          },
          "execution_count": 6
        }
      ]
    },
    {
      "cell_type": "code",
      "metadata": {
        "id": "YWshZLTWzptM",
        "colab_type": "code",
        "colab": {}
      },
      "source": [
        "x = data.drop(['status','salary'], axis=1).values"
      ],
      "execution_count": 7,
      "outputs": []
    },
    {
      "cell_type": "code",
      "metadata": {
        "id": "ZkHJX2Dszy9f",
        "colab_type": "code",
        "colab": {
          "base_uri": "https://localhost:8080/",
          "height": 136
        },
        "outputId": "ab3cb071-1730-411e-a435-06f6e7699b43"
      },
      "source": [
        "x"
      ],
      "execution_count": 8,
      "outputs": [
        {
          "output_type": "execute_result",
          "data": {
            "text/plain": [
              "array([[1, 'M', 67.0, ..., 55.0, 'Mkt&HR', 58.8],\n",
              "       [2, 'M', 79.33, ..., 86.5, 'Mkt&Fin', 66.28],\n",
              "       [3, 'M', 65.0, ..., 75.0, 'Mkt&Fin', 57.8],\n",
              "       ...,\n",
              "       [213, 'M', 67.0, ..., 59.0, 'Mkt&Fin', 69.72],\n",
              "       [214, 'F', 74.0, ..., 70.0, 'Mkt&HR', 60.23],\n",
              "       [215, 'M', 62.0, ..., 89.0, 'Mkt&HR', 60.22]], dtype=object)"
            ]
          },
          "metadata": {
            "tags": []
          },
          "execution_count": 8
        }
      ]
    },
    {
      "cell_type": "code",
      "metadata": {
        "id": "IQX0Kq36z1bM",
        "colab_type": "code",
        "colab": {}
      },
      "source": [
        "y = data.iloc[:, -2].values"
      ],
      "execution_count": 9,
      "outputs": []
    },
    {
      "cell_type": "code",
      "metadata": {
        "id": "jGZV3L4Ez8LC",
        "colab_type": "code",
        "colab": {
          "base_uri": "https://localhost:8080/",
          "height": 663
        },
        "outputId": "03a0bc44-c447-4dab-c325-9cf2c85cdea5"
      },
      "source": [
        "y"
      ],
      "execution_count": 10,
      "outputs": [
        {
          "output_type": "execute_result",
          "data": {
            "text/plain": [
              "array(['Placed', 'Placed', 'Placed', 'Not Placed', 'Placed', 'Not Placed',\n",
              "       'Not Placed', 'Placed', 'Placed', 'Not Placed', 'Placed', 'Placed',\n",
              "       'Not Placed', 'Placed', 'Not Placed', 'Placed', 'Placed',\n",
              "       'Not Placed', 'Not Placed', 'Placed', 'Placed', 'Placed', 'Placed',\n",
              "       'Placed', 'Placed', 'Not Placed', 'Placed', 'Placed', 'Placed',\n",
              "       'Not Placed', 'Placed', 'Not Placed', 'Placed', 'Placed',\n",
              "       'Not Placed', 'Placed', 'Not Placed', 'Placed', 'Placed', 'Placed',\n",
              "       'Placed', 'Not Placed', 'Not Placed', 'Placed', 'Placed',\n",
              "       'Not Placed', 'Not Placed', 'Placed', 'Placed', 'Not Placed',\n",
              "       'Placed', 'Not Placed', 'Not Placed', 'Placed', 'Placed', 'Placed',\n",
              "       'Placed', 'Placed', 'Placed', 'Placed', 'Placed', 'Placed',\n",
              "       'Placed', 'Not Placed', 'Placed', 'Not Placed', 'Placed', 'Placed',\n",
              "       'Not Placed', 'Placed', 'Placed', 'Placed', 'Placed', 'Placed',\n",
              "       'Placed', 'Not Placed', 'Placed', 'Placed', 'Placed', 'Not Placed',\n",
              "       'Placed', 'Placed', 'Not Placed', 'Placed', 'Placed', 'Placed',\n",
              "       'Placed', 'Not Placed', 'Placed', 'Placed', 'Placed', 'Not Placed',\n",
              "       'Placed', 'Not Placed', 'Placed', 'Placed', 'Placed', 'Not Placed',\n",
              "       'Placed', 'Not Placed', 'Not Placed', 'Placed', 'Placed', 'Placed',\n",
              "       'Placed', 'Not Placed', 'Not Placed', 'Placed', 'Placed',\n",
              "       'Not Placed', 'Placed', 'Not Placed', 'Placed', 'Placed', 'Placed',\n",
              "       'Placed', 'Placed', 'Placed', 'Placed', 'Placed', 'Not Placed',\n",
              "       'Placed', 'Placed', 'Placed', 'Placed', 'Placed', 'Placed',\n",
              "       'Placed', 'Placed', 'Placed', 'Not Placed', 'Placed', 'Placed',\n",
              "       'Placed', 'Placed', 'Placed', 'Not Placed', 'Placed', 'Placed',\n",
              "       'Placed', 'Placed', 'Not Placed', 'Placed', 'Placed', 'Not Placed',\n",
              "       'Placed', 'Placed', 'Placed', 'Placed', 'Not Placed', 'Placed',\n",
              "       'Placed', 'Placed', 'Placed', 'Placed', 'Not Placed', 'Placed',\n",
              "       'Placed', 'Not Placed', 'Not Placed', 'Placed', 'Not Placed',\n",
              "       'Placed', 'Placed', 'Placed', 'Not Placed', 'Placed', 'Not Placed',\n",
              "       'Not Placed', 'Not Placed', 'Not Placed', 'Placed', 'Placed',\n",
              "       'Not Placed', 'Placed', 'Not Placed', 'Placed', 'Placed', 'Placed',\n",
              "       'Not Placed', 'Placed', 'Not Placed', 'Not Placed', 'Placed',\n",
              "       'Not Placed', 'Placed', 'Not Placed', 'Placed', 'Not Placed',\n",
              "       'Not Placed', 'Not Placed', 'Placed', 'Placed', 'Placed',\n",
              "       'Not Placed', 'Placed', 'Placed', 'Placed', 'Not Placed', 'Placed',\n",
              "       'Placed', 'Not Placed', 'Placed', 'Placed', 'Placed', 'Placed',\n",
              "       'Not Placed', 'Placed', 'Not Placed', 'Placed', 'Placed', 'Placed',\n",
              "       'Placed', 'Placed', 'Not Placed'], dtype=object)"
            ]
          },
          "metadata": {
            "tags": []
          },
          "execution_count": 10
        }
      ]
    },
    {
      "cell_type": "markdown",
      "metadata": {
        "id": "e1lUsf9CRmv-",
        "colab_type": "text"
      },
      "source": [
        "##One Hot Encoder\n"
      ]
    },
    {
      "cell_type": "code",
      "metadata": {
        "id": "Qc_e5JsHBvBW",
        "colab_type": "code",
        "colab": {}
      },
      "source": [
        "from sklearn.compose import ColumnTransformer\n",
        "from sklearn.preprocessing import OneHotEncoder"
      ],
      "execution_count": 11,
      "outputs": []
    },
    {
      "cell_type": "code",
      "metadata": {
        "id": "QZ98itHkCZuG",
        "colab_type": "code",
        "colab": {}
      },
      "source": [
        "ct = ColumnTransformer(transformers=[('encoder',OneHotEncoder(), [1,3,5,6,8,9,11])], remainder='passthrough')"
      ],
      "execution_count": 12,
      "outputs": []
    },
    {
      "cell_type": "code",
      "metadata": {
        "id": "LRbeJ9miCgT7",
        "colab_type": "code",
        "colab": {}
      },
      "source": [
        "x = np.array(ct.fit_transform(x))"
      ],
      "execution_count": 13,
      "outputs": []
    },
    {
      "cell_type": "code",
      "metadata": {
        "id": "KBIdOythArED",
        "colab_type": "code",
        "colab": {
          "base_uri": "https://localhost:8080/",
          "height": 136
        },
        "outputId": "14a509ee-3b95-4f20-d769-de799ca40ad3"
      },
      "source": [
        "x"
      ],
      "execution_count": 14,
      "outputs": [
        {
          "output_type": "execute_result",
          "data": {
            "text/plain": [
              "array([[0.0, 1.0, 0.0, ..., 58.0, 55.0, 58.8],\n",
              "       [0.0, 1.0, 1.0, ..., 77.48, 86.5, 66.28],\n",
              "       [0.0, 1.0, 1.0, ..., 64.0, 75.0, 57.8],\n",
              "       ...,\n",
              "       [0.0, 1.0, 0.0, ..., 73.0, 59.0, 69.72],\n",
              "       [1.0, 0.0, 0.0, ..., 58.0, 70.0, 60.23],\n",
              "       [0.0, 1.0, 1.0, ..., 53.0, 89.0, 60.22]], dtype=object)"
            ]
          },
          "metadata": {
            "tags": []
          },
          "execution_count": 14
        }
      ]
    },
    {
      "cell_type": "code",
      "metadata": {
        "id": "NG1bw9psN_jt",
        "colab_type": "code",
        "colab": {}
      },
      "source": [
        "tab = pd.DataFrame(data=x)"
      ],
      "execution_count": 15,
      "outputs": []
    },
    {
      "cell_type": "code",
      "metadata": {
        "id": "5oiYHQnGOCtp",
        "colab_type": "code",
        "colab": {
          "base_uri": "https://localhost:8080/",
          "height": 419
        },
        "outputId": "f8735aea-df85-4a9d-a89d-1ab030ed2702"
      },
      "source": [
        "tab"
      ],
      "execution_count": 16,
      "outputs": [
        {
          "output_type": "execute_result",
          "data": {
            "text/html": [
              "<div>\n",
              "<style scoped>\n",
              "    .dataframe tbody tr th:only-of-type {\n",
              "        vertical-align: middle;\n",
              "    }\n",
              "\n",
              "    .dataframe tbody tr th {\n",
              "        vertical-align: top;\n",
              "    }\n",
              "\n",
              "    .dataframe thead th {\n",
              "        text-align: right;\n",
              "    }\n",
              "</style>\n",
              "<table border=\"1\" class=\"dataframe\">\n",
              "  <thead>\n",
              "    <tr style=\"text-align: right;\">\n",
              "      <th></th>\n",
              "      <th>0</th>\n",
              "      <th>1</th>\n",
              "      <th>2</th>\n",
              "      <th>3</th>\n",
              "      <th>4</th>\n",
              "      <th>5</th>\n",
              "      <th>6</th>\n",
              "      <th>7</th>\n",
              "      <th>8</th>\n",
              "      <th>9</th>\n",
              "      <th>10</th>\n",
              "      <th>11</th>\n",
              "      <th>12</th>\n",
              "      <th>13</th>\n",
              "      <th>14</th>\n",
              "      <th>15</th>\n",
              "      <th>16</th>\n",
              "      <th>17</th>\n",
              "      <th>18</th>\n",
              "      <th>19</th>\n",
              "      <th>20</th>\n",
              "      <th>21</th>\n",
              "    </tr>\n",
              "  </thead>\n",
              "  <tbody>\n",
              "    <tr>\n",
              "      <th>0</th>\n",
              "      <td>0</td>\n",
              "      <td>1</td>\n",
              "      <td>0</td>\n",
              "      <td>1</td>\n",
              "      <td>0</td>\n",
              "      <td>1</td>\n",
              "      <td>0</td>\n",
              "      <td>1</td>\n",
              "      <td>0</td>\n",
              "      <td>0</td>\n",
              "      <td>0</td>\n",
              "      <td>1</td>\n",
              "      <td>1</td>\n",
              "      <td>0</td>\n",
              "      <td>0</td>\n",
              "      <td>1</td>\n",
              "      <td>1</td>\n",
              "      <td>67</td>\n",
              "      <td>91</td>\n",
              "      <td>58</td>\n",
              "      <td>55</td>\n",
              "      <td>58.8</td>\n",
              "    </tr>\n",
              "    <tr>\n",
              "      <th>1</th>\n",
              "      <td>0</td>\n",
              "      <td>1</td>\n",
              "      <td>1</td>\n",
              "      <td>0</td>\n",
              "      <td>0</td>\n",
              "      <td>1</td>\n",
              "      <td>0</td>\n",
              "      <td>0</td>\n",
              "      <td>1</td>\n",
              "      <td>0</td>\n",
              "      <td>0</td>\n",
              "      <td>1</td>\n",
              "      <td>0</td>\n",
              "      <td>1</td>\n",
              "      <td>1</td>\n",
              "      <td>0</td>\n",
              "      <td>2</td>\n",
              "      <td>79.33</td>\n",
              "      <td>78.33</td>\n",
              "      <td>77.48</td>\n",
              "      <td>86.5</td>\n",
              "      <td>66.28</td>\n",
              "    </tr>\n",
              "    <tr>\n",
              "      <th>2</th>\n",
              "      <td>0</td>\n",
              "      <td>1</td>\n",
              "      <td>1</td>\n",
              "      <td>0</td>\n",
              "      <td>1</td>\n",
              "      <td>0</td>\n",
              "      <td>1</td>\n",
              "      <td>0</td>\n",
              "      <td>0</td>\n",
              "      <td>1</td>\n",
              "      <td>0</td>\n",
              "      <td>0</td>\n",
              "      <td>1</td>\n",
              "      <td>0</td>\n",
              "      <td>1</td>\n",
              "      <td>0</td>\n",
              "      <td>3</td>\n",
              "      <td>65</td>\n",
              "      <td>68</td>\n",
              "      <td>64</td>\n",
              "      <td>75</td>\n",
              "      <td>57.8</td>\n",
              "    </tr>\n",
              "    <tr>\n",
              "      <th>3</th>\n",
              "      <td>0</td>\n",
              "      <td>1</td>\n",
              "      <td>1</td>\n",
              "      <td>0</td>\n",
              "      <td>1</td>\n",
              "      <td>0</td>\n",
              "      <td>0</td>\n",
              "      <td>0</td>\n",
              "      <td>1</td>\n",
              "      <td>0</td>\n",
              "      <td>0</td>\n",
              "      <td>1</td>\n",
              "      <td>1</td>\n",
              "      <td>0</td>\n",
              "      <td>0</td>\n",
              "      <td>1</td>\n",
              "      <td>4</td>\n",
              "      <td>56</td>\n",
              "      <td>52</td>\n",
              "      <td>52</td>\n",
              "      <td>66</td>\n",
              "      <td>59.43</td>\n",
              "    </tr>\n",
              "    <tr>\n",
              "      <th>4</th>\n",
              "      <td>0</td>\n",
              "      <td>1</td>\n",
              "      <td>1</td>\n",
              "      <td>0</td>\n",
              "      <td>1</td>\n",
              "      <td>0</td>\n",
              "      <td>0</td>\n",
              "      <td>1</td>\n",
              "      <td>0</td>\n",
              "      <td>1</td>\n",
              "      <td>0</td>\n",
              "      <td>0</td>\n",
              "      <td>1</td>\n",
              "      <td>0</td>\n",
              "      <td>1</td>\n",
              "      <td>0</td>\n",
              "      <td>5</td>\n",
              "      <td>85.8</td>\n",
              "      <td>73.6</td>\n",
              "      <td>73.3</td>\n",
              "      <td>96.8</td>\n",
              "      <td>55.5</td>\n",
              "    </tr>\n",
              "    <tr>\n",
              "      <th>...</th>\n",
              "      <td>...</td>\n",
              "      <td>...</td>\n",
              "      <td>...</td>\n",
              "      <td>...</td>\n",
              "      <td>...</td>\n",
              "      <td>...</td>\n",
              "      <td>...</td>\n",
              "      <td>...</td>\n",
              "      <td>...</td>\n",
              "      <td>...</td>\n",
              "      <td>...</td>\n",
              "      <td>...</td>\n",
              "      <td>...</td>\n",
              "      <td>...</td>\n",
              "      <td>...</td>\n",
              "      <td>...</td>\n",
              "      <td>...</td>\n",
              "      <td>...</td>\n",
              "      <td>...</td>\n",
              "      <td>...</td>\n",
              "      <td>...</td>\n",
              "      <td>...</td>\n",
              "    </tr>\n",
              "    <tr>\n",
              "      <th>210</th>\n",
              "      <td>0</td>\n",
              "      <td>1</td>\n",
              "      <td>0</td>\n",
              "      <td>1</td>\n",
              "      <td>0</td>\n",
              "      <td>1</td>\n",
              "      <td>0</td>\n",
              "      <td>1</td>\n",
              "      <td>0</td>\n",
              "      <td>1</td>\n",
              "      <td>0</td>\n",
              "      <td>0</td>\n",
              "      <td>1</td>\n",
              "      <td>0</td>\n",
              "      <td>1</td>\n",
              "      <td>0</td>\n",
              "      <td>211</td>\n",
              "      <td>80.6</td>\n",
              "      <td>82</td>\n",
              "      <td>77.6</td>\n",
              "      <td>91</td>\n",
              "      <td>74.49</td>\n",
              "    </tr>\n",
              "    <tr>\n",
              "      <th>211</th>\n",
              "      <td>0</td>\n",
              "      <td>1</td>\n",
              "      <td>0</td>\n",
              "      <td>1</td>\n",
              "      <td>0</td>\n",
              "      <td>1</td>\n",
              "      <td>0</td>\n",
              "      <td>0</td>\n",
              "      <td>1</td>\n",
              "      <td>0</td>\n",
              "      <td>0</td>\n",
              "      <td>1</td>\n",
              "      <td>1</td>\n",
              "      <td>0</td>\n",
              "      <td>1</td>\n",
              "      <td>0</td>\n",
              "      <td>212</td>\n",
              "      <td>58</td>\n",
              "      <td>60</td>\n",
              "      <td>72</td>\n",
              "      <td>74</td>\n",
              "      <td>53.62</td>\n",
              "    </tr>\n",
              "    <tr>\n",
              "      <th>212</th>\n",
              "      <td>0</td>\n",
              "      <td>1</td>\n",
              "      <td>0</td>\n",
              "      <td>1</td>\n",
              "      <td>0</td>\n",
              "      <td>1</td>\n",
              "      <td>0</td>\n",
              "      <td>1</td>\n",
              "      <td>0</td>\n",
              "      <td>1</td>\n",
              "      <td>0</td>\n",
              "      <td>0</td>\n",
              "      <td>0</td>\n",
              "      <td>1</td>\n",
              "      <td>1</td>\n",
              "      <td>0</td>\n",
              "      <td>213</td>\n",
              "      <td>67</td>\n",
              "      <td>67</td>\n",
              "      <td>73</td>\n",
              "      <td>59</td>\n",
              "      <td>69.72</td>\n",
              "    </tr>\n",
              "    <tr>\n",
              "      <th>213</th>\n",
              "      <td>1</td>\n",
              "      <td>0</td>\n",
              "      <td>0</td>\n",
              "      <td>1</td>\n",
              "      <td>0</td>\n",
              "      <td>1</td>\n",
              "      <td>0</td>\n",
              "      <td>1</td>\n",
              "      <td>0</td>\n",
              "      <td>1</td>\n",
              "      <td>0</td>\n",
              "      <td>0</td>\n",
              "      <td>1</td>\n",
              "      <td>0</td>\n",
              "      <td>0</td>\n",
              "      <td>1</td>\n",
              "      <td>214</td>\n",
              "      <td>74</td>\n",
              "      <td>66</td>\n",
              "      <td>58</td>\n",
              "      <td>70</td>\n",
              "      <td>60.23</td>\n",
              "    </tr>\n",
              "    <tr>\n",
              "      <th>214</th>\n",
              "      <td>0</td>\n",
              "      <td>1</td>\n",
              "      <td>1</td>\n",
              "      <td>0</td>\n",
              "      <td>0</td>\n",
              "      <td>1</td>\n",
              "      <td>0</td>\n",
              "      <td>0</td>\n",
              "      <td>1</td>\n",
              "      <td>1</td>\n",
              "      <td>0</td>\n",
              "      <td>0</td>\n",
              "      <td>1</td>\n",
              "      <td>0</td>\n",
              "      <td>0</td>\n",
              "      <td>1</td>\n",
              "      <td>215</td>\n",
              "      <td>62</td>\n",
              "      <td>58</td>\n",
              "      <td>53</td>\n",
              "      <td>89</td>\n",
              "      <td>60.22</td>\n",
              "    </tr>\n",
              "  </tbody>\n",
              "</table>\n",
              "<p>215 rows × 22 columns</p>\n",
              "</div>"
            ],
            "text/plain": [
              "    0  1  2  3  4  5  6  7  8   ... 13 14 15   16     17     18     19    20     21\n",
              "0    0  1  0  1  0  1  0  1  0  ...  0  0  1    1     67     91     58    55   58.8\n",
              "1    0  1  1  0  0  1  0  0  1  ...  1  1  0    2  79.33  78.33  77.48  86.5  66.28\n",
              "2    0  1  1  0  1  0  1  0  0  ...  0  1  0    3     65     68     64    75   57.8\n",
              "3    0  1  1  0  1  0  0  0  1  ...  0  0  1    4     56     52     52    66  59.43\n",
              "4    0  1  1  0  1  0  0  1  0  ...  0  1  0    5   85.8   73.6   73.3  96.8   55.5\n",
              "..  .. .. .. .. .. .. .. .. ..  ... .. .. ..  ...    ...    ...    ...   ...    ...\n",
              "210  0  1  0  1  0  1  0  1  0  ...  0  1  0  211   80.6     82   77.6    91  74.49\n",
              "211  0  1  0  1  0  1  0  0  1  ...  0  1  0  212     58     60     72    74  53.62\n",
              "212  0  1  0  1  0  1  0  1  0  ...  1  1  0  213     67     67     73    59  69.72\n",
              "213  1  0  0  1  0  1  0  1  0  ...  0  0  1  214     74     66     58    70  60.23\n",
              "214  0  1  1  0  0  1  0  0  1  ...  0  0  1  215     62     58     53    89  60.22\n",
              "\n",
              "[215 rows x 22 columns]"
            ]
          },
          "metadata": {
            "tags": []
          },
          "execution_count": 16
        }
      ]
    },
    {
      "cell_type": "markdown",
      "metadata": {
        "id": "riWJFD0jpueI",
        "colab_type": "text"
      },
      "source": [
        "##Splitting Data into Train and Test sets"
      ]
    },
    {
      "cell_type": "code",
      "metadata": {
        "id": "pZhuSfN1qAel",
        "colab_type": "code",
        "colab": {}
      },
      "source": [
        "from sklearn.model_selection import train_test_split"
      ],
      "execution_count": 17,
      "outputs": []
    },
    {
      "cell_type": "code",
      "metadata": {
        "id": "H4Qn0-GZqIYb",
        "colab_type": "code",
        "colab": {}
      },
      "source": [
        "x_train, x_test, y_train, y_test = train_test_split(x, y, test_size=0.2)"
      ],
      "execution_count": 18,
      "outputs": []
    },
    {
      "cell_type": "code",
      "metadata": {
        "id": "kPNhi0WlrahT",
        "colab_type": "code",
        "colab": {
          "base_uri": "https://localhost:8080/",
          "height": 136
        },
        "outputId": "92423583-6cf9-41cb-b505-b2fa9d5fb020"
      },
      "source": [
        "x_train"
      ],
      "execution_count": 19,
      "outputs": [
        {
          "output_type": "execute_result",
          "data": {
            "text/plain": [
              "array([[0.0, 1.0, 0.0, ..., 67.0, 58.1, 75.71],\n",
              "       [1.0, 0.0, 0.0, ..., 65.6, 68.0, 71.63],\n",
              "       [1.0, 0.0, 0.0, ..., 69.0, 67.0, 62.35],\n",
              "       ...,\n",
              "       [0.0, 1.0, 0.0, ..., 54.38, 57.0, 56.13],\n",
              "       [1.0, 0.0, 1.0, ..., 69.0, 55.6, 65.63],\n",
              "       [0.0, 1.0, 0.0, ..., 67.0, 86.0, 70.2]], dtype=object)"
            ]
          },
          "metadata": {
            "tags": []
          },
          "execution_count": 19
        }
      ]
    },
    {
      "cell_type": "code",
      "metadata": {
        "id": "ZV1BjAEgrmEE",
        "colab_type": "code",
        "colab": {
          "base_uri": "https://localhost:8080/",
          "height": 544
        },
        "outputId": "ead2164d-0c77-4a3b-b385-e01181f7c043"
      },
      "source": [
        "y_train"
      ],
      "execution_count": 20,
      "outputs": [
        {
          "output_type": "execute_result",
          "data": {
            "text/plain": [
              "array(['Not Placed', 'Not Placed', 'Placed', 'Placed', 'Not Placed',\n",
              "       'Placed', 'Placed', 'Placed', 'Not Placed', 'Placed', 'Not Placed',\n",
              "       'Placed', 'Not Placed', 'Not Placed', 'Placed', 'Not Placed',\n",
              "       'Not Placed', 'Not Placed', 'Placed', 'Placed', 'Not Placed',\n",
              "       'Not Placed', 'Placed', 'Placed', 'Placed', 'Not Placed', 'Placed',\n",
              "       'Not Placed', 'Placed', 'Not Placed', 'Placed', 'Placed',\n",
              "       'Not Placed', 'Placed', 'Placed', 'Placed', 'Placed', 'Not Placed',\n",
              "       'Placed', 'Placed', 'Not Placed', 'Placed', 'Placed', 'Not Placed',\n",
              "       'Placed', 'Placed', 'Placed', 'Placed', 'Placed', 'Not Placed',\n",
              "       'Placed', 'Not Placed', 'Not Placed', 'Not Placed', 'Placed',\n",
              "       'Placed', 'Not Placed', 'Placed', 'Placed', 'Placed', 'Placed',\n",
              "       'Placed', 'Placed', 'Placed', 'Not Placed', 'Placed', 'Not Placed',\n",
              "       'Placed', 'Not Placed', 'Not Placed', 'Placed', 'Placed', 'Placed',\n",
              "       'Placed', 'Placed', 'Placed', 'Placed', 'Placed', 'Placed',\n",
              "       'Placed', 'Placed', 'Placed', 'Not Placed', 'Placed', 'Placed',\n",
              "       'Placed', 'Placed', 'Placed', 'Not Placed', 'Placed', 'Not Placed',\n",
              "       'Placed', 'Not Placed', 'Placed', 'Placed', 'Placed', 'Placed',\n",
              "       'Placed', 'Placed', 'Placed', 'Placed', 'Placed', 'Placed',\n",
              "       'Placed', 'Placed', 'Placed', 'Placed', 'Not Placed', 'Placed',\n",
              "       'Not Placed', 'Placed', 'Placed', 'Placed', 'Placed', 'Placed',\n",
              "       'Not Placed', 'Placed', 'Not Placed', 'Not Placed', 'Not Placed',\n",
              "       'Not Placed', 'Placed', 'Not Placed', 'Placed', 'Placed', 'Placed',\n",
              "       'Placed', 'Placed', 'Not Placed', 'Not Placed', 'Not Placed',\n",
              "       'Placed', 'Placed', 'Placed', 'Not Placed', 'Not Placed', 'Placed',\n",
              "       'Placed', 'Placed', 'Not Placed', 'Placed', 'Placed', 'Placed',\n",
              "       'Placed', 'Placed', 'Placed', 'Placed', 'Placed', 'Placed',\n",
              "       'Placed', 'Placed', 'Placed', 'Not Placed', 'Not Placed', 'Placed',\n",
              "       'Not Placed', 'Placed', 'Not Placed', 'Not Placed', 'Placed',\n",
              "       'Placed', 'Not Placed', 'Placed', 'Placed', 'Placed', 'Not Placed',\n",
              "       'Placed', 'Placed', 'Placed', 'Not Placed', 'Placed', 'Placed'],\n",
              "      dtype=object)"
            ]
          },
          "metadata": {
            "tags": []
          },
          "execution_count": 20
        }
      ]
    },
    {
      "cell_type": "markdown",
      "metadata": {
        "id": "nIUTa5pCsMaL",
        "colab_type": "text"
      },
      "source": [
        "##Label Encoder\n"
      ]
    },
    {
      "cell_type": "code",
      "metadata": {
        "id": "esRyUxm0qX1h",
        "colab_type": "code",
        "colab": {}
      },
      "source": [
        "from sklearn.preprocessing import LabelEncoder"
      ],
      "execution_count": 21,
      "outputs": []
    },
    {
      "cell_type": "code",
      "metadata": {
        "id": "M1E7i2ovqgvK",
        "colab_type": "code",
        "colab": {}
      },
      "source": [
        "le = LabelEncoder()"
      ],
      "execution_count": 22,
      "outputs": []
    },
    {
      "cell_type": "code",
      "metadata": {
        "id": "YkNdfqH7qjtI",
        "colab_type": "code",
        "colab": {}
      },
      "source": [
        "let = le.fit_transform(y_train)"
      ],
      "execution_count": 23,
      "outputs": []
    },
    {
      "cell_type": "code",
      "metadata": {
        "id": "ZJNY_CB1rY-G",
        "colab_type": "code",
        "colab": {
          "base_uri": "https://localhost:8080/",
          "height": 153
        },
        "outputId": "896e5321-a5cf-43ac-d4cb-c8f6c1ef00ef"
      },
      "source": [
        "let"
      ],
      "execution_count": 24,
      "outputs": [
        {
          "output_type": "execute_result",
          "data": {
            "text/plain": [
              "array([0, 0, 1, 1, 0, 1, 1, 1, 0, 1, 0, 1, 0, 0, 1, 0, 0, 0, 1, 1, 0, 0,\n",
              "       1, 1, 1, 0, 1, 0, 1, 0, 1, 1, 0, 1, 1, 1, 1, 0, 1, 1, 0, 1, 1, 0,\n",
              "       1, 1, 1, 1, 1, 0, 1, 0, 0, 0, 1, 1, 0, 1, 1, 1, 1, 1, 1, 1, 0, 1,\n",
              "       0, 1, 0, 0, 1, 1, 1, 1, 1, 1, 1, 1, 1, 1, 1, 1, 0, 1, 1, 1, 1, 1,\n",
              "       0, 1, 0, 1, 0, 1, 1, 1, 1, 1, 1, 1, 1, 1, 1, 1, 1, 1, 1, 0, 1, 0,\n",
              "       1, 1, 1, 1, 1, 0, 1, 0, 0, 0, 0, 1, 0, 1, 1, 1, 1, 1, 0, 0, 0, 1,\n",
              "       1, 1, 0, 0, 1, 1, 1, 0, 1, 1, 1, 1, 1, 1, 1, 1, 1, 1, 1, 1, 0, 0,\n",
              "       1, 0, 1, 0, 0, 1, 1, 0, 1, 1, 1, 0, 1, 1, 1, 0, 1, 1])"
            ]
          },
          "metadata": {
            "tags": []
          },
          "execution_count": 24
        }
      ]
    },
    {
      "cell_type": "code",
      "metadata": {
        "id": "NIWCQ-9DuQTo",
        "colab_type": "code",
        "colab": {}
      },
      "source": [
        "les = le.fit_transform(y_test)"
      ],
      "execution_count": 25,
      "outputs": []
    },
    {
      "cell_type": "code",
      "metadata": {
        "id": "riWdJL2uuWZU",
        "colab_type": "code",
        "colab": {
          "base_uri": "https://localhost:8080/",
          "height": 51
        },
        "outputId": "b2c83189-0767-4574-b6dd-be43c3af2573"
      },
      "source": [
        "les"
      ],
      "execution_count": 26,
      "outputs": [
        {
          "output_type": "execute_result",
          "data": {
            "text/plain": [
              "array([1, 1, 1, 1, 0, 1, 1, 0, 1, 0, 1, 1, 0, 0, 1, 0, 0, 0, 0, 1, 1, 0,\n",
              "       1, 1, 1, 1, 1, 1, 1, 1, 1, 0, 1, 1, 0, 1, 1, 1, 1, 1, 1, 1, 0])"
            ]
          },
          "metadata": {
            "tags": []
          },
          "execution_count": 26
        }
      ]
    },
    {
      "cell_type": "markdown",
      "metadata": {
        "id": "GktKySmDsfyI",
        "colab_type": "text"
      },
      "source": [
        "##Standardization"
      ]
    },
    {
      "cell_type": "code",
      "metadata": {
        "id": "BE1yQHtVr6XV",
        "colab_type": "code",
        "colab": {}
      },
      "source": [
        "from sklearn.preprocessing import StandardScaler"
      ],
      "execution_count": 27,
      "outputs": []
    },
    {
      "cell_type": "code",
      "metadata": {
        "id": "uWwxCYfbstn-",
        "colab_type": "code",
        "colab": {}
      },
      "source": [
        "sc = StandardScaler()"
      ],
      "execution_count": 28,
      "outputs": []
    },
    {
      "cell_type": "code",
      "metadata": {
        "id": "dJMAi65Csw3H",
        "colab_type": "code",
        "colab": {}
      },
      "source": [
        "x_train = sc.fit_transform(x_train)\n",
        "x_test = sc.transform(x_test)"
      ],
      "execution_count": 29,
      "outputs": []
    },
    {
      "cell_type": "markdown",
      "metadata": {
        "id": "1rn6J7hQs-nL",
        "colab_type": "text"
      },
      "source": [
        "##Train on different algorithms"
      ]
    },
    {
      "cell_type": "code",
      "metadata": {
        "id": "E7Z6P421s9cx",
        "colab_type": "code",
        "colab": {}
      },
      "source": [
        "from sklearn.linear_model import LogisticRegression\n",
        "from sklearn.neighbors import KNeighborsClassifier\n",
        "from sklearn.tree import DecisionTreeClassifier\n",
        "from sklearn.ensemble import RandomForestClassifier\n",
        "from sklearn.svm import SVC"
      ],
      "execution_count": 30,
      "outputs": []
    },
    {
      "cell_type": "code",
      "metadata": {
        "id": "S4a0nwQHtKVS",
        "colab_type": "code",
        "colab": {}
      },
      "source": [
        "l_cla = LogisticRegression()\n",
        "k_cla = KNeighborsClassifier()\n",
        "d_cla = DecisionTreeClassifier()\n",
        "r_cla = RandomForestClassifier()\n",
        "s_cla = SVC(kernel='linear')\n",
        "ks_cla = SVC(kernel='rbf')"
      ],
      "execution_count": 31,
      "outputs": []
    },
    {
      "cell_type": "code",
      "metadata": {
        "id": "GyjvT1DTtPPi",
        "colab_type": "code",
        "colab": {
          "base_uri": "https://localhost:8080/",
          "height": 85
        },
        "outputId": "f327fe07-3697-44ec-93f4-e3c530b1cfba"
      },
      "source": [
        "l_cla.fit(x_train, let)\n",
        "k_cla.fit(x_train, let)\n",
        "d_cla.fit(x_train, let)\n",
        "r_cla.fit(x_train, let)\n",
        "s_cla.fit(x_train, let)\n",
        "ks_cla.fit(x_train, let)"
      ],
      "execution_count": 32,
      "outputs": [
        {
          "output_type": "execute_result",
          "data": {
            "text/plain": [
              "SVC(C=1.0, break_ties=False, cache_size=200, class_weight=None, coef0=0.0,\n",
              "    decision_function_shape='ovr', degree=3, gamma='scale', kernel='rbf',\n",
              "    max_iter=-1, probability=False, random_state=None, shrinking=True,\n",
              "    tol=0.001, verbose=False)"
            ]
          },
          "metadata": {
            "tags": []
          },
          "execution_count": 32
        }
      ]
    },
    {
      "cell_type": "code",
      "metadata": {
        "id": "1aXyJZEJthys",
        "colab_type": "code",
        "colab": {}
      },
      "source": [
        "l_pred = l_cla.predict(x_test)\n",
        "k_pred = k_cla.predict(x_test)\n",
        "d_pred = d_cla.predict(x_test)\n",
        "r_pred = r_cla.predict(x_test)\n",
        "s_pred = s_cla.predict(x_test)\n",
        "ks_pred = ks_cla.predict(x_test)"
      ],
      "execution_count": 33,
      "outputs": []
    },
    {
      "cell_type": "code",
      "metadata": {
        "id": "1NipDVndtnn2",
        "colab_type": "code",
        "colab": {}
      },
      "source": [
        "from sklearn.metrics import confusion_matrix"
      ],
      "execution_count": 34,
      "outputs": []
    },
    {
      "cell_type": "code",
      "metadata": {
        "id": "esamOumEt8XQ",
        "colab_type": "code",
        "colab": {}
      },
      "source": [
        "l_c = confusion_matrix(les, l_pred)\n",
        "k_c = confusion_matrix(les, k_pred)\n",
        "d_c = confusion_matrix(les, d_pred)\n",
        "r_c = confusion_matrix(les, r_pred)\n",
        "s_c = confusion_matrix(les, s_pred)\n",
        "ks_c = confusion_matrix(les, ks_pred)"
      ],
      "execution_count": 35,
      "outputs": []
    },
    {
      "cell_type": "code",
      "metadata": {
        "id": "Si0ivjy1utk6",
        "colab_type": "code",
        "colab": {
          "base_uri": "https://localhost:8080/",
          "height": 51
        },
        "outputId": "e25dbbe0-95c0-4c27-dd0c-ebc5dce1ba29"
      },
      "source": [
        "l_c"
      ],
      "execution_count": 36,
      "outputs": [
        {
          "output_type": "execute_result",
          "data": {
            "text/plain": [
              "array([[11,  2],\n",
              "       [ 4, 26]])"
            ]
          },
          "metadata": {
            "tags": []
          },
          "execution_count": 36
        }
      ]
    },
    {
      "cell_type": "code",
      "metadata": {
        "id": "pjWTAU0huxpw",
        "colab_type": "code",
        "colab": {
          "base_uri": "https://localhost:8080/",
          "height": 51
        },
        "outputId": "7185efae-18a7-43d3-c2e6-e83a23401ea8"
      },
      "source": [
        "k_c"
      ],
      "execution_count": 37,
      "outputs": [
        {
          "output_type": "execute_result",
          "data": {
            "text/plain": [
              "array([[ 8,  5],\n",
              "       [ 6, 24]])"
            ]
          },
          "metadata": {
            "tags": []
          },
          "execution_count": 37
        }
      ]
    },
    {
      "cell_type": "code",
      "metadata": {
        "id": "zXZSlbHJuzib",
        "colab_type": "code",
        "colab": {
          "base_uri": "https://localhost:8080/",
          "height": 51
        },
        "outputId": "31afb719-5651-4bf5-d215-4ddab5cc2538"
      },
      "source": [
        "d_c"
      ],
      "execution_count": 38,
      "outputs": [
        {
          "output_type": "execute_result",
          "data": {
            "text/plain": [
              "array([[ 9,  4],\n",
              "       [ 2, 28]])"
            ]
          },
          "metadata": {
            "tags": []
          },
          "execution_count": 38
        }
      ]
    },
    {
      "cell_type": "code",
      "metadata": {
        "id": "J_p8pA5cu0xZ",
        "colab_type": "code",
        "colab": {
          "base_uri": "https://localhost:8080/",
          "height": 51
        },
        "outputId": "bdf6fd6e-d541-43c8-bfbe-2fc7ce770fd8"
      },
      "source": [
        "r_c"
      ],
      "execution_count": 39,
      "outputs": [
        {
          "output_type": "execute_result",
          "data": {
            "text/plain": [
              "array([[ 9,  4],\n",
              "       [ 4, 26]])"
            ]
          },
          "metadata": {
            "tags": []
          },
          "execution_count": 39
        }
      ]
    },
    {
      "cell_type": "code",
      "metadata": {
        "id": "skrazB1Uu131",
        "colab_type": "code",
        "colab": {
          "base_uri": "https://localhost:8080/",
          "height": 51
        },
        "outputId": "2c1016fe-ac97-4260-bb45-599776146ab0"
      },
      "source": [
        "s_c"
      ],
      "execution_count": 40,
      "outputs": [
        {
          "output_type": "execute_result",
          "data": {
            "text/plain": [
              "array([[11,  2],\n",
              "       [ 3, 27]])"
            ]
          },
          "metadata": {
            "tags": []
          },
          "execution_count": 40
        }
      ]
    },
    {
      "cell_type": "code",
      "metadata": {
        "id": "URxPDYhVu3KK",
        "colab_type": "code",
        "colab": {
          "base_uri": "https://localhost:8080/",
          "height": 51
        },
        "outputId": "39178393-17c7-4f88-be8c-5094090e4a50"
      },
      "source": [
        "ks_c"
      ],
      "execution_count": 41,
      "outputs": [
        {
          "output_type": "execute_result",
          "data": {
            "text/plain": [
              "array([[10,  3],\n",
              "       [ 6, 24]])"
            ]
          },
          "metadata": {
            "tags": []
          },
          "execution_count": 41
        }
      ]
    },
    {
      "cell_type": "code",
      "metadata": {
        "id": "i691npSYu4e-",
        "colab_type": "code",
        "colab": {}
      },
      "source": [
        "from sklearn.metrics import accuracy_score"
      ],
      "execution_count": 42,
      "outputs": []
    },
    {
      "cell_type": "code",
      "metadata": {
        "id": "4K-mzZr1vEm_",
        "colab_type": "code",
        "colab": {}
      },
      "source": [
        "l_a = accuracy_score(les, l_pred)\n",
        "k_a = accuracy_score(les, k_pred)\n",
        "d_a = accuracy_score(les, d_pred)\n",
        "r_a = accuracy_score(les, r_pred)\n",
        "s_a = accuracy_score(les, s_pred)\n",
        "ks_a = accuracy_score(les, ks_pred)"
      ],
      "execution_count": 43,
      "outputs": []
    },
    {
      "cell_type": "code",
      "metadata": {
        "id": "x28zM3v7vRCq",
        "colab_type": "code",
        "colab": {
          "base_uri": "https://localhost:8080/",
          "height": 119
        },
        "outputId": "271e66f2-fac3-4596-e59d-d43367abef4e"
      },
      "source": [
        "print('Logistic Regression: ' + str(l_a) + '\\nKNN: ' + str(k_a) + '\\nDecision Tree: ' + str(d_a) + '\\nRandom Forest: ' + str(r_a) + '\\nLinear SVC: ' + str(s_a) + '\\nKernel SVC: ' + str(ks_a))"
      ],
      "execution_count": 44,
      "outputs": [
        {
          "output_type": "stream",
          "text": [
            "Logistic Regression: 0.8604651162790697\n",
            "KNN: 0.7441860465116279\n",
            "Decision Tree: 0.8604651162790697\n",
            "Random Forest: 0.813953488372093\n",
            "Linear SVC: 0.8837209302325582\n",
            "Kernel SVC: 0.7906976744186046\n"
          ],
          "name": "stdout"
        }
      ]
    }
  ]
}